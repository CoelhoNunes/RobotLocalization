{
 "cells": [
  {
   "cell_type": "markdown",
   "metadata": {},
   "source": [
    "Robot Localization with Python and Particle Filters\n",
    "==================================================="
   ]
  },
  {
   "cell_type": "markdown",
   "metadata": {},
   "source": [
    "Import libraries and load map."
   ]
  },
  {
   "cell_type": "code",
   "metadata": {
    "ExecuteTime": {
     "end_time": "2024-12-27T18:29:24.563133Z",
     "start_time": "2024-12-27T18:29:24.470619Z"
    }
   },
   "source": [
    "import numpy as np\n",
    "import cv2\n",
    "\n",
    "# Load the map\n",
    "map = cv2.imread(\"map.png\", 0)\n",
    "HEIGHT, WIDTH = map.shape\n",
    "\n",
    "# Initialize robot state\n",
    "rx, ry, rtheta = (WIDTH / 4, HEIGHT / 4, 0)"
   ],
   "outputs": [],
   "execution_count": 1
  },
  {
   "cell_type": "markdown",
   "metadata": {},
   "source": [
    "Map coordinate system\n",
    "\n",
    "![title](images/coords.png)\n",
    "\n",
    "CAUTION: The terrain height at X,Y coordinates is map(Y,X)."
   ]
  },
  {
   "cell_type": "code",
   "metadata": {
    "ExecuteTime": {
     "end_time": "2024-12-27T18:29:40.857568Z",
     "start_time": "2024-12-27T18:29:40.853923Z"
    }
   },
   "source": [
    "# Movement parameters\n",
    "STEP = 5\n",
    "TURN = np.radians(25)\n",
    "SIGMA_STEP = 0.5\n",
    "SIGMA_TURN = np.radians(5)\n",
    "\n",
    "# Particle filter parameters\n",
    "NUM_PARTICLES = 3000\n",
    "SIGMA_SENSOR = 5\n",
    "SIGMA_PARTICLE_STEP = 2\n",
    "SIGMA_PARTICLE_TURN = np.pi / 24\n",
    "\n",
    "# Function to handle keyboard input\n",
    "def get_input():\n",
    "    fwd = 0\n",
    "    turn = 0\n",
    "    halt = False\n",
    "    k = cv2.waitKey(0) & 0xFF\n",
    "\n",
    "    if k == ord('w'):  # Move forward\n",
    "        fwd = STEP\n",
    "    elif k == ord('s'):  # Move backward\n",
    "        fwd = -STEP\n",
    "    elif k == ord('d'):  # Turn right\n",
    "        turn = TURN\n",
    "    elif k == ord('a'):  # Turn left\n",
    "        turn = -TURN\n",
    "    elif k == ord('q'):  # Quit program\n",
    "        halt = True\n",
    "    else:\n",
    "        print(\"Invalid input. Use W/A/S/D to move or Q to quit.\")\n",
    "\n",
    "    return fwd, turn, halt"
   ],
   "outputs": [],
   "execution_count": 2
  },
  {
   "cell_type": "markdown",
   "metadata": {},
   "source": [
    "Move the robot, with Gausssian noise.\n",
    "\n",
    "![title](images/gaussian.png)"
   ]
  },
  {
   "cell_type": "code",
   "metadata": {
    "ExecuteTime": {
     "end_time": "2024-12-27T18:29:55.213944Z",
     "start_time": "2024-12-27T18:29:55.211132Z"
    }
   },
   "source": [
    "# Move robot with Gaussian noise\n",
    "def move_robot(rx, ry, rtheta, fwd, turn):\n",
    "    fwd_noisy = fwd + np.random.normal(0.0, SIGMA_STEP)\n",
    "    rx += fwd_noisy * np.cos(rtheta)\n",
    "    ry += fwd_noisy * np.sin(rtheta)\n",
    "\n",
    "    turn_noisy = turn + np.random.normal(0.0, SIGMA_TURN)\n",
    "    rtheta += turn_noisy\n",
    "    rtheta %= 2 * np.pi  # Keep angle within 0 to 2π\n",
    "\n",
    "    return rx, ry, rtheta"
   ],
   "outputs": [],
   "execution_count": 3
  },
  {
   "cell_type": "markdown",
   "metadata": {},
   "source": [
    "Initialize particle cloud."
   ]
  },
  {
   "cell_type": "code",
   "metadata": {
    "ExecuteTime": {
     "end_time": "2024-12-27T18:30:11.289136Z",
     "start_time": "2024-12-27T18:30:11.286738Z"
    }
   },
   "source": [
    "# Initialize particles\n",
    "def init_particles():\n",
    "    particles = np.random.rand(NUM_PARTICLES, 3)\n",
    "    particles *= np.array((WIDTH, HEIGHT, np.radians(360)))\n",
    "    return particles"
   ],
   "outputs": [],
   "execution_count": 4
  },
  {
   "cell_type": "markdown",
   "metadata": {},
   "source": [
    "Move the particles."
   ]
  },
  {
   "cell_type": "code",
   "metadata": {
    "ExecuteTime": {
     "end_time": "2024-12-27T18:30:24.035121Z",
     "start_time": "2024-12-27T18:30:24.032258Z"
    }
   },
   "source": [
    "# Move particles\n",
    "def move_particles(particles, fwd, turn):\n",
    "    particles[:, 0] += fwd * np.cos(particles[:, 2])\n",
    "    particles[:, 1] += fwd * np.sin(particles[:, 2])\n",
    "    particles[:, 2] += turn\n",
    "\n",
    "    particles[:, 0] = np.clip(particles[:, 0], 0, WIDTH - 1)\n",
    "    particles[:, 1] = np.clip(particles[:, 1], 0, HEIGHT - 1)\n",
    "    particles[:, 2] %= 2 * np.pi  # Keep angles within 0 to 2π\n",
    "    return particles"
   ],
   "outputs": [],
   "execution_count": 5
  },
  {
   "cell_type": "markdown",
   "metadata": {},
   "source": [
    "Get value from robot's sensor."
   ]
  },
  {
   "cell_type": "code",
   "metadata": {
    "ExecuteTime": {
     "end_time": "2024-12-27T18:30:34.600138Z",
     "start_time": "2024-12-27T18:30:34.596987Z"
    }
   },
   "source": [
    "# Sense the map value\n",
    "def sense(x, y, noisy=False):\n",
    "    x, y = int(x), int(y)\n",
    "    if noisy:\n",
    "        return map[y, x] + np.random.normal(0.0, SIGMA_SENSOR)\n",
    "    return map[y, x]"
   ],
   "outputs": [],
   "execution_count": 6
  },
  {
   "cell_type": "markdown",
   "metadata": {},
   "source": [
    "Compute particle weights."
   ]
  },
  {
   "cell_type": "code",
   "metadata": {
    "ExecuteTime": {
     "end_time": "2024-12-27T18:30:59.184878Z",
     "start_time": "2024-12-27T18:30:59.182027Z"
    }
   },
   "source": [
    "# Compute particle weights\n",
    "def compute_weights(particles, robot_sensor):\n",
    "    errors = np.zeros(NUM_PARTICLES)\n",
    "    for i in range(NUM_PARTICLES):\n",
    "        particle_sensor = sense(particles[i, 0], particles[i, 1])\n",
    "        errors[i] = abs(robot_sensor - particle_sensor)\n",
    "    weights = np.max(errors) - errors\n",
    "\n",
    "    # Set weights to zero for particles on the map edge\n",
    "    weights[(particles[:, 0] == 0) |\n",
    "            (particles[:, 0] == WIDTH - 1) |\n",
    "            (particles[:, 1] == 0) |\n",
    "            (particles[:, 1] == HEIGHT - 1)] = 0.0\n",
    "\n",
    "    weights = weights ** 3  # Increase sensitivity\n",
    "    return weights"
   ],
   "outputs": [],
   "execution_count": 7
  },
  {
   "cell_type": "markdown",
   "metadata": {},
   "source": [
    "Resample the particles."
   ]
  },
  {
   "cell_type": "code",
   "metadata": {
    "ExecuteTime": {
     "end_time": "2024-12-27T18:31:10.927153Z",
     "start_time": "2024-12-27T18:31:10.924720Z"
    }
   },
   "source": [
    "# Resample particles based on weights\n",
    "def resample(particles, weights):\n",
    "    probabilities = weights / np.sum(weights)\n",
    "    new_indices = np.random.choice(NUM_PARTICLES, size=NUM_PARTICLES, p=probabilities)\n",
    "    particles = particles[new_indices, :]\n",
    "    return particles"
   ],
   "outputs": [],
   "execution_count": 8
  },
  {
   "cell_type": "markdown",
   "metadata": {},
   "source": [
    "Add noise to the particles."
   ]
  },
  {
   "cell_type": "code",
   "metadata": {
    "ExecuteTime": {
     "end_time": "2024-12-27T18:31:45.737855Z",
     "start_time": "2024-12-27T18:31:45.734770Z"
    }
   },
   "source": [
    "# Add noise to particles\n",
    "def add_noise(particles):\n",
    "    noise = np.concatenate((\n",
    "        np.random.normal(0, SIGMA_PARTICLE_STEP, (NUM_PARTICLES, 1)),\n",
    "        np.random.normal(0, SIGMA_PARTICLE_STEP, (NUM_PARTICLES, 1)),\n",
    "        np.random.normal(0, SIGMA_PARTICLE_TURN, (NUM_PARTICLES, 1)),\n",
    "    ), axis=1)\n",
    "    particles += noise\n",
    "    return particles"
   ],
   "outputs": [],
   "execution_count": 9
  },
  {
   "cell_type": "markdown",
   "metadata": {},
   "source": [
    "Display robot, particles and best guess."
   ]
  },
  {
   "cell_type": "code",
   "metadata": {
    "ExecuteTime": {
     "end_time": "2024-12-27T18:34:25.965930Z",
     "start_time": "2024-12-27T18:34:25.960748Z"
    }
   },
   "source": [
    "# Display the map, particles, and robot with a resizable window\n",
    "def display(map, rx, ry, particles, window_size=(800, 600)):\n",
    "\n",
    "    # Calculate aspect ratios\n",
    "    map_aspect = map.shape[1] / map.shape[0]\n",
    "    window_aspect = window_size[0] / window_size[1]\n",
    "\n",
    "    # Preserve aspect ratio when resizing\n",
    "    if map_aspect > window_aspect:\n",
    "        # Map is wider; fit width and adjust height\n",
    "        new_width = window_size[0]\n",
    "        new_height = int(window_size[0] / map_aspect)\n",
    "    else:\n",
    "        # Map is taller; fit height and adjust width\n",
    "        new_height = window_size[1]\n",
    "        new_width = int(window_size[1] * map_aspect)\n",
    "\n",
    "    # Resize map to fit within the window while maintaining aspect ratio\n",
    "    resized_map = cv2.resize(map, (new_width, new_height), interpolation=cv2.INTER_AREA)\n",
    "    resized_map = cv2.cvtColor(resized_map, cv2.COLOR_GRAY2BGR)\n",
    "\n",
    "    # Compute scaling factors\n",
    "    scale_x = new_width / map.shape[1]\n",
    "    scale_y = new_height / map.shape[0]\n",
    "\n",
    "    # Draw particles\n",
    "    for i in range(NUM_PARTICLES):\n",
    "        px = int(particles[i, 0] * scale_x)\n",
    "        py = int(particles[i, 1] * scale_y)\n",
    "        cv2.circle(resized_map, (px, py), 1, (255, 0, 0), 1)\n",
    "\n",
    "    # Draw robot\n",
    "    robot_x = int(rx * scale_x)\n",
    "    robot_y = int(ry * scale_y)\n",
    "    cv2.circle(resized_map, (robot_x, robot_y), 5, (0, 255, 0), -1)\n",
    "\n",
    "    # Draw best guess (mean position of particles)\n",
    "    if len(particles) > 0:\n",
    "        px_mean = int(np.mean(particles[:, 0]) * scale_x)\n",
    "        py_mean = int(np.mean(particles[:, 1]) * scale_y)\n",
    "        cv2.circle(resized_map, (px_mean, py_mean), 5, (0, 0, 255), -1)\n",
    "\n",
    "    # Create a black background for the resized map to center it in the window\n",
    "    display_image = np.zeros((window_size[1], window_size[0], 3), dtype=np.uint8)\n",
    "    offset_x = (window_size[0] - new_width) // 2\n",
    "    offset_y = (window_size[1] - new_height) // 2\n",
    "    display_image[offset_y:offset_y + new_height, offset_x:offset_x + new_width] = resized_map\n",
    "\n",
    "    # Display the image\n",
    "    cv2.imshow('map', display_image)\n"
   ],
   "outputs": [],
   "execution_count": 12
  },
  {
   "cell_type": "markdown",
   "metadata": {},
   "source": [
    "Main routine."
   ]
  },
  {
   "cell_type": "code",
   "metadata": {
    "ExecuteTime": {
     "end_time": "2024-12-27T18:35:32.846473Z",
     "start_time": "2024-12-27T18:34:29.636705Z"
    }
   },
   "source": [
    "# Main routine\n",
    "particles = init_particles()\n",
    "while True:\n",
    "    display(map, rx, ry, particles, window_size=(1024, 768))\n",
    "    fwd, turn, halt = get_input()\n",
    "    if halt:\n",
    "        print(\"Exiting program...\")\n",
    "        break\n",
    "    rx, ry, rtheta = move_robot(rx, ry, rtheta, fwd, turn)\n",
    "    particles = move_particles(particles, fwd, turn)\n",
    "    if fwd != 0:\n",
    "        robot_sensor = sense(rx, ry, noisy=True)\n",
    "        weights = compute_weights(particles, robot_sensor)\n",
    "        particles = resample(particles, weights)\n",
    "        particles = add_noise(particles)\n",
    "\n",
    "cv2.destroyAllWindows()               \n"
   ],
   "outputs": [
    {
     "name": "stdout",
     "output_type": "stream",
     "text": [
      "Exiting program...\n"
     ]
    }
   ],
   "execution_count": 13
  },
  {
   "metadata": {
    "ExecuteTime": {
     "end_time": "2024-12-27T18:05:57.166928Z",
     "start_time": "2024-12-27T18:05:57.164736Z"
    }
   },
   "cell_type": "code",
   "source": "",
   "outputs": [],
   "execution_count": null
  }
 ],
 "metadata": {
  "kernelspec": {
   "display_name": "Python 3 (ipykernel)",
   "language": "python",
   "name": "python3"
  },
  "language_info": {
   "codemirror_mode": {
    "name": "ipython",
    "version": 3
   },
   "file_extension": ".py",
   "mimetype": "text/x-python",
   "name": "python",
   "nbconvert_exporter": "python",
   "pygments_lexer": "ipython3",
   "version": "3.10.6"
  }
 },
 "nbformat": 4,
 "nbformat_minor": 4
}
