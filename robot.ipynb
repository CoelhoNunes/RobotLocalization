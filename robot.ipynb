{
 "cells": [
  {
   "cell_type": "markdown",
   "metadata": {},
   "source": [
    "Robot Localization with Python and Particle Filters\n",
    "==================================================="
   ]
  },
  {
   "cell_type": "markdown",
   "metadata": {},
   "source": [
    "Import libraries and load map."
   ]
  },
  {
   "cell_type": "code",
   "execution_count": 2,
   "metadata": {},
   "outputs": [
    {
     "name": "stdout",
     "output_type": "stream",
     "text": [
      "[[ 79  80  82 ... 133 148 156]\n",
      " [ 78  79  81 ... 138 156 164]\n",
      " [ 76  77  79 ... 147 170 180]\n",
      " ...\n",
      " [181 181 182 ... 174 172 171]\n",
      " [178 178 178 ... 180 179 178]\n",
      " [177 177 177 ... 183 182 182]]\n"
     ]
    }
   ],
   "source": [
    "import numpy as np\n",
    "import cv2\n",
    "\n",
    "map = cv2.imread(\"map.png\", 0)\n",
    "HEIGHT, WIDTH = map.shape\n",
    "print(map)\n",
    "\n",
    "rx, ry, rtheta = (WIDTH/4, HEIGHT/4, 0)"
   ]
  },
  {
   "cell_type": "markdown",
   "metadata": {},
   "source": [
    "Map coordinate system\n",
    "\n",
    "![title](images/coords.png)\n",
    "\n",
    "CAUTION: The terrain height at X,Y coordinates is map(Y,X)."
   ]
  },
  {
   "cell_type": "markdown",
   "metadata": {},
   "source": [
    "Read keyboard input."
   ]
  },
  {
   "cell_type": "code",
   "execution_count": 3,
   "metadata": {},
   "outputs": [],
   "source": [
    "STEP = 5\n",
    "TURN = np.radians(25)\n",
    "\n",
    "def get_input():\n",
    "    fwd = 0\n",
    "    turn = 0\n",
    "    halt = False\n",
    "    k = cv2.waitKey(0)\n",
    "    \n",
    "    if k == 82:\n",
    "        fwd = STEP\n",
    "    elif k == 83:\n",
    "        turn = TURN\n",
    "    elif k == 81:\n",
    "        turn = -TURN\n",
    "    else:\n",
    "        halt = True\n",
    "\n",
    "    return fwd, turn, halt"
   ]
  },
  {
   "cell_type": "markdown",
   "metadata": {},
   "source": [
    "Move the robot, with Gausssian noise.\n",
    "\n",
    "![title](images/gaussian.png)"
   ]
  },
  {
   "cell_type": "code",
   "execution_count": 4,
   "metadata": {},
   "outputs": [],
   "source": [
    "SIGMA_STEP = 0.5\n",
    "SIGMA_TURN = np.radians(5) # best way to control trackability for demo\n",
    "\n",
    "def move_robot(rx, ry, rtheta, fwd, turn):\n",
    "    # Re-orient and step robot, with noise\n",
    "    fwd_noisy = fwd + np.random.normal(0.0, SIGMA_STEP, 1)\n",
    "    rx += fwd_noisy * np.cos(rtheta)\n",
    "    ry += fwd_noisy * np.sin(rtheta)\n",
    "    print(\"fwd_noisy=\", fwd_noisy)\n",
    "    \n",
    "    turn_noisy = turn + np.random.normal(0.0, SIGMA_TURN, 1)\n",
    "    rtheta += turn_noisy\n",
    "    print(\"turn_noisy=\", np.degrees(turn_noisy))\n",
    "\n",
    "    return rx, ry, rtheta"
   ]
  },
  {
   "cell_type": "markdown",
   "metadata": {},
   "source": [
    "Initialize particle cloud."
   ]
  },
  {
   "cell_type": "code",
   "execution_count": 5,
   "metadata": {},
   "outputs": [],
   "source": [
    "\n",
    "NUM_PARTICLES = 3000\n",
    "\n",
    "def init():\n",
    "    particles = np.random.rand(NUM_PARTICLES, 3)\n",
    "    particles *= np.array( (WIDTH, HEIGHT, np.radians(360)) )\n",
    "    return particles"
   ]
  },
  {
   "cell_type": "markdown",
   "metadata": {},
   "source": [
    "Move the particles."
   ]
  },
  {
   "cell_type": "code",
   "execution_count": 6,
   "metadata": {},
   "outputs": [],
   "source": [
    "def move_particles(particles, fwd, turn):\n",
    "    particles[:,0] += fwd * np.cos(particles[:,2])\n",
    "    particles[:,1] += fwd * np.sin(particles[:,2])\n",
    "    particles[:,2] += turn\n",
    "\n",
    "    particles[:,0] = np.clip(particles[:,0], 0.0, WIDTH-1)\n",
    "    particles[:,1] = np.clip(particles[:,1], 0.0, HEIGHT-1)\n",
    "    return particles"
   ]
  },
  {
   "cell_type": "markdown",
   "metadata": {},
   "source": [
    "Get value from robot's sensor."
   ]
  },
  {
   "cell_type": "code",
   "execution_count": 7,
   "metadata": {},
   "outputs": [],
   "source": [
    "def sense(x, y, noisy=False):\n",
    "    SIGMA_SENSOR = 5\n",
    "    x = int(x)\n",
    "    y = int(y)\n",
    "    if noisy:\n",
    "        return map[y,x] + np.random.normal(0.0, SIGMA_SENSOR, 1)\n",
    "    return map[y,x]"
   ]
  },
  {
   "cell_type": "markdown",
   "metadata": {},
   "source": [
    "Compute particle weights."
   ]
  },
  {
   "cell_type": "code",
   "execution_count": 8,
   "metadata": {},
   "outputs": [],
   "source": [
    "def compute_weights(particles, robot_sensor):    \n",
    "    errors = np.zeros(NUM_PARTICLES)\n",
    "    for i in range(NUM_PARTICLES):\n",
    "        particle_sensor = sense(particles[i,0], particles[i,1])\n",
    "        errors[i] = abs(robot_sensor - particle_sensor)\n",
    "    weights = np.max(errors) - errors\n",
    "\n",
    "    # Kill off particles on edge\n",
    "    weights[\n",
    "        (particles[:,0] == 0) |\n",
    "        (particles[:,0] == WIDTH-1) |\n",
    "        (particles[:,1] == 0) |\n",
    "        (particles[:,1] == HEIGHT-1)\n",
    "    ] = 0.0\n",
    "\n",
    "    # Increase sensitivity\n",
    "    weights = weights ** 3\n",
    "    return weights"
   ]
  },
  {
   "cell_type": "markdown",
   "metadata": {},
   "source": [
    "Resample the particles."
   ]
  },
  {
   "cell_type": "code",
   "execution_count": 9,
   "metadata": {},
   "outputs": [],
   "source": [
    "def resample(particles, weights):\n",
    "    probabilities = weights / np.sum(weights)\n",
    "    new_index = np.random.choice(\n",
    "        NUM_PARTICLES,\n",
    "        size=NUM_PARTICLES,\n",
    "        p=probabilities\n",
    "    )\n",
    "    particles = particles[new_index,:]\n",
    "    return particles"
   ]
  },
  {
   "cell_type": "markdown",
   "metadata": {},
   "source": [
    "Add noise to the particles."
   ]
  },
  {
   "cell_type": "code",
   "execution_count": 10,
   "metadata": {},
   "outputs": [],
   "source": [
    "def add_noise(particles):\n",
    "    SIGMA_PARTICLE_STEP = 2 #2\n",
    "    SIGMA_PARTICLE_TURN = np.pi / 24 #np.pi / 24\n",
    "    noise = np.concatenate((\n",
    "        np.random.normal(0, SIGMA_PARTICLE_STEP, (NUM_PARTICLES,1)),\n",
    "        np.random.normal(0, SIGMA_PARTICLE_STEP, (NUM_PARTICLES,1)),\n",
    "        np.random.normal(0, SIGMA_PARTICLE_TURN, (NUM_PARTICLES,1)),\n",
    "        ),\n",
    "        axis=1\n",
    "    )\n",
    "    particles += noise\n",
    "    return particles"
   ]
  },
  {
   "cell_type": "markdown",
   "metadata": {},
   "source": [
    "Display robot, particles and best guess."
   ]
  },
  {
   "cell_type": "code",
   "execution_count": 11,
   "metadata": {},
   "outputs": [],
   "source": [
    "def display(map, rx, ry, particles):\n",
    "    lmap = cv2.cvtColor(map, cv2.COLOR_GRAY2BGR)\n",
    "    \n",
    "    # Display particles\n",
    "    if len(particles) > 0:\n",
    "        for i in range(NUM_PARTICLES):\n",
    "            cv2.circle(lmap, \n",
    "                       (int(particles[i,0]), int(particles[i,1])), \n",
    "                       1, \n",
    "                       (255,0,0), \n",
    "                       1)\n",
    "        \n",
    "    # Display robot\n",
    "    cv2.circle(lmap, (int(rx), int(ry)), 5, (0,255,0), 10)\n",
    "\n",
    "    # Display best guess\n",
    "    if len(particles) > 0:\n",
    "        px = np.mean(particles[:,0])\n",
    "        py = np.mean(particles[:,1])\n",
    "        cv2.circle(lmap, (int(px), int(py)), 5, (0,0,255), 5)\n",
    "\n",
    "    cv2.imshow('map', lmap)"
   ]
  },
  {
   "cell_type": "markdown",
   "metadata": {},
   "source": [
    "Main routine."
   ]
  },
  {
   "cell_type": "code",
   "execution_count": null,
   "metadata": {},
   "outputs": [],
   "source": [
    "particles = init()\n",
    "while True:\n",
    "    display(map, rx, ry, particles)\n",
    "    fwd, turn, halt = get_input()\n",
    "    if halt:\n",
    "        break\n",
    "    rx, ry, rtheta = move_robot(rx, ry, rtheta, fwd, turn)\n",
    "    particles = move_particles(particles, fwd, turn)\n",
    "    if fwd != 0:\n",
    "        robot_sensor = sense(rx, ry, noisy=True)        \n",
    "        weights = compute_weights(particles, robot_sensor)\n",
    "        particles = resample(particles, weights)\n",
    "        particles = add_noise(particles)\n",
    "    \n",
    "cv2.destroyAllWindows()                        \n"
   ]
  }
 ],
 "metadata": {
  "kernelspec": {
   "display_name": "Python 3 (ipykernel)",
   "language": "python",
   "name": "python3"
  },
  "language_info": {
   "codemirror_mode": {
    "name": "ipython",
    "version": 3
   },
   "file_extension": ".py",
   "mimetype": "text/x-python",
   "name": "python",
   "nbconvert_exporter": "python",
   "pygments_lexer": "ipython3",
   "version": "3.10.6"
  }
 },
 "nbformat": 4,
 "nbformat_minor": 4
}
